{
 "cells": [
  {
   "cell_type": "code",
   "execution_count": 1,
   "metadata": {
    "collapsed": false
   },
   "outputs": [
    {
     "name": "stdout",
     "output_type": "stream",
     "text": [
      "done. wrote 76 sequences to file.\n"
     ]
    }
   ],
   "source": [
    "from Bio import SeqIO # Biopython is great for parsing sequence files. Import the part we need (SeqIO).\n",
    "\n",
    "input = open('projectb.fasta copy', 'r') # Open your sequence file in read mode ('r'). Put the script.py and the input.fasta in the same directory.\n",
    "output = open('host_mtdna.fasta', 'w') # Open a file, named 'host_mtdna.fasta', in write mode ('w') to put the output.\n",
    "\n",
    "\n",
    "seqlist = [] # Empty list to hold the sequence objects\n",
    "\n",
    "\n",
    "for entry in SeqIO.parse(input, 'fasta'): # Parse each sequence in the input file; tell biopython to expect fasta format.\n",
    "\tseqlist.append(entry) # Add this sequence object to our list\n",
    "interestingCountries = [\"Algeria\",\"Angola\",\"Benin\",\"Botswana\",\"Burkina Faso\",\"Burundi\",\"Cabo Verden\",\"Cameroon \",\"Central African Republic (CAR)\",\"chad\",\n",
    "                        \"Comoros\",\"Democratic Republic of the Congo\",\"Republic of the Congo\",\"Cote d'Ivoire\",\"Djibouti\",\"Egypt\",\"Equatorial Guinea\",\"Ethiopia\",\"Eritrea\",\n",
    "                        \"Gabon\",\"Gambia\",\"Ghana\",\"Guinea\",\"Guinea-Bissau\",\"Kenya\",\"Lesotho\",\"Liberia\",\"Libya\",\"Madagascar\",\n",
    "                        \"Malawi\",\"Mali\",\"Mauritania\",\"Mauritius\",\"Morocco\",\"Mozambique\",\"Namibia\",\"Niger\",\"Nigeria\",\"Rwanda\",\n",
    "                        \"Sao Tome and Principe\",\"Senegal\",\"Seychelles\",\"Sierra Leone\",\"Somalia\",\"South Africa\",\"South Sudan\",\n",
    "                        \"Sudan\",\"Swaziland\",\"Tanzania\",\"Togo\",\"Tunisia\",\"Uganda\",\"Zambia\",\"Zimbabwe\",\"Brazil\"]\n",
    "interestingYears = range(1879,2016) # [year1, year1+1, year1+2, year1+3, ... year2]\n",
    "counter=0\n",
    "def interest_year_country(x,y):\n",
    "    if x in interestingYears and y in interestingCountries:\n",
    "        return 'match'\n",
    "\n",
    "\n",
    "        \n",
    "counter = 0 # Keep track of how many sequences matched\n",
    "for entry in seqlist: # Each sequence object has some attributes stored that we want to access. \n",
    "\n",
    "    data = entry.description  # This is an instance of `object.attribute` syntax; it will pull the sequence object, and look for the header attached to it\n",
    "#     print data\n",
    "    data = data.split('|') # accessionNumber|blah|blah|...|country|year --> [ accessionNumber, blah, blah, ..., country, year]\n",
    "#     print data\n",
    "    country = data[-2]# second from the end\n",
    "#     print country\n",
    "    \n",
    "    year = data[-1]\n",
    "#     print type(year)\n",
    "    if year != 'NA':\n",
    "        year = year.split('_')\n",
    "        year = int(year[0])\n",
    "#         print type(year)\n",
    "    \n",
    "    answer = interest_year_country(year, country)\n",
    "    \n",
    "    if answer == 'match':\n",
    "        counter += 1\n",
    "        SeqIO.write(entry, output, 'fasta')\n",
    "    \n",
    "     \n",
    "print 'done. wrote ' + str(counter) + ' sequences to file.' # Print how many interesting sequences we found.     \n",
    "\n"
   ]
  },
  {
   "cell_type": "code",
   "execution_count": null,
   "metadata": {
    "collapsed": true
   },
   "outputs": [],
   "source": []
  }
 ],
 "metadata": {
  "kernelspec": {
   "display_name": "Python 2",
   "language": "python",
   "name": "python2"
  },
  "language_info": {
   "codemirror_mode": {
    "name": "ipython",
    "version": 2
   },
   "file_extension": ".py",
   "mimetype": "text/x-python",
   "name": "python",
   "nbconvert_exporter": "python",
   "pygments_lexer": "ipython2",
   "version": "2.7.12"
  }
 },
 "nbformat": 4,
 "nbformat_minor": 0
}
