{
 "cells": [
  {
   "cell_type": "code",
   "execution_count": 1,
   "metadata": {
    "collapsed": false
   },
   "outputs": [
    {
     "name": "stdout",
     "output_type": "stream",
     "text": [
      "hello world\n"
     ]
    }
   ],
   "source": [
    "print \"hello world\""
   ]
  },
  {
   "cell_type": "code",
   "execution_count": 2,
   "metadata": {
    "collapsed": false
   },
   "outputs": [
    {
     "ename": "SyntaxError",
     "evalue": "invalid syntax (<ipython-input-2-04e0759bdb78>, line 4)",
     "output_type": "error",
     "traceback": [
      "\u001b[0;36m  File \u001b[0;32m\"<ipython-input-2-04e0759bdb78>\"\u001b[0;36m, line \u001b[0;32m4\u001b[0m\n\u001b[0;31m    ​\u001b[0m\n\u001b[0m    ^\u001b[0m\n\u001b[0;31mSyntaxError\u001b[0m\u001b[0;31m:\u001b[0m invalid syntax\n"
     ]
    }
   ],
   "source": [
    "# Import useful modules\n",
    "from glob import glob # Glob can be used to find files with specific names in the current working directory\n",
    "from Bio import SeqIO # Biopython is great for parsing sequence files\n",
    "​\n",
    "output = open('host_mtdna.fasta', 'w') # Open a file, named 'host_mtdna.fasta', in write mode ('w') to put the output.\n",
    "​\n",
    "files = glob('*.gb') # Find all the files in the current working directory with the extension '.gb'\n",
    "​\n",
    "print files # This returns a list of files.gb; print it to the screen\n",
    "​\n",
    "seqlist = [] # Empty list to hold the sequence objects\n",
    "​\n",
    "for file in files: # For each .gb file\n",
    "    for entry in SeqIO.parse(open(file, 'r'), 'genbank'): # Open the file in 'r' read mode, and parse it as a genbank format file\n",
    "        seqlist.append(entry) # Add this sequence object to our list\n",
    "​\n",
    "for entry in seqlist: # Each sequence object has some attributes stored that we want to access. \n",
    "    acc = entry.name # This is an instance of `object.attribute` syntax; it will pull the object, and look for the name associated with it.\n",
    "    organism = entry.annotations['organism'] # entry.annotations is a dictionary with different metadata stored here; here, pull the metadata stored in the 'organism' field.\n",
    "    description = '>'+entry.name+'|'+organism # make a new fasta header line. These look like: >name|organism (no spaces)\n",
    "    sequence = str(entry.seq) # Pull the sequence object's sequence attribute; format it as a str(string)\n",
    "    output.write('%s\\n%s\\n'%(description, sequence))\n",
    "    '''\n",
    "    Write the...\n",
    "    >header\n",
    "    sequence\n",
    "    ... to file\n",
    "    '''\n",
    "# Then move on to the next sequence object and add it to the output file\n",
    "​\n",
    "print 'done. wrote all to host_mtdna.fasta'"
   ]
  },
  {
   "cell_type": "code",
   "execution_count": null,
   "metadata": {
    "collapsed": true
   },
   "outputs": [],
   "source": []
  }
 ],
 "metadata": {
  "kernelspec": {
   "display_name": "Python 2",
   "language": "python",
   "name": "python2"
  },
  "language_info": {
   "codemirror_mode": {
    "name": "ipython",
    "version": 2
   },
   "file_extension": ".py",
   "mimetype": "text/x-python",
   "name": "python",
   "nbconvert_exporter": "python",
   "pygments_lexer": "ipython2",
   "version": "2.7.12"
  }
 },
 "nbformat": 4,
 "nbformat_minor": 0
}
